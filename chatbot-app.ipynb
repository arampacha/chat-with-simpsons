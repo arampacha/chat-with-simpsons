{
 "cells": [
  {
   "cell_type": "code",
   "execution_count": 1,
   "id": "964734a1-4ef1-4ebb-a300-79b508a646c3",
   "metadata": {},
   "outputs": [],
   "source": [
    "import torch\n",
    "from transformers import AutoModelForCausalLM, AutoTokenizer\n",
    "import ipywidgets as widgets\n",
    "from IPython.display import display"
   ]
  },
  {
   "cell_type": "markdown",
   "id": "28a5cc4a-9742-4635-aef4-2f73eeaad123",
   "metadata": {},
   "source": [
    "<figure>\n",
    "  <img src=\"the-simpsons.png\" alt=\"the-simpsons.png\"/>\n",
    "  <figcaption>(c) 20th Century Fox Television</figcaption>\n",
    "</figure>"
   ]
  },
  {
   "cell_type": "markdown",
   "id": "a4c46c78-fe90-454a-a6d5-6a5d66306315",
   "metadata": {},
   "source": [
    "# Chat with Simpsons"
   ]
  },
  {
   "cell_type": "markdown",
   "id": "d8b2d735-4c73-42eb-8be4-db95dca4af58",
   "metadata": {},
   "source": [
    "Start your conversation with Simpsons chatbot!"
   ]
  },
  {
   "cell_type": "code",
   "execution_count": 2,
   "id": "9a8bfeff-7962-43fb-9c17-025d393a4173",
   "metadata": {},
   "outputs": [],
   "source": [
    "btn_launch = widgets.Button(description=\"Start\")"
   ]
  },
  {
   "cell_type": "code",
   "execution_count": 3,
   "id": "dbd68389-340a-41e4-96b1-11b285ad8444",
   "metadata": {},
   "outputs": [],
   "source": [
    "def load_model(change):\n",
    "    model = AutoModelForCausalLM.from_pretrained(\"arampacha/DialoGPT-medium-simpsons\")\n",
    "    tokenizer = AutoTokenizer.from_pretrained(\"arampacha/DialoGPT-medium-simpsons\")\n",
    "    \n",
    "    for step in range(5):\n",
    "        # encode the new user input, add the eos_token and return a tensor in Pytorch\n",
    "        new_user_input_ids = tokenizer.encode(input(\">> User:\") + tokenizer.eos_token, return_tensors='pt')\n",
    "\n",
    "        # append the new user input tokens to the chat history\n",
    "        bot_input_ids = torch.cat([chat_history_ids, new_user_input_ids], dim=-1) if step > 0 else new_user_input_ids\n",
    "\n",
    "        # generated a response while limiting the total chat history to 1000 tokens, \n",
    "        chat_history_ids = model.generate(bot_input_ids, \n",
    "                                          max_length=1000, \n",
    "                                          pad_token_id=tokenizer.eos_token_id,\n",
    "                                          do_sample=True,\n",
    "                                          top_p=0.9)\n",
    "\n",
    "        # pretty print last ouput tokens from bot\n",
    "        print(\"SimpsonsBot: {}\".format(tokenizer.decode(chat_history_ids[:, bot_input_ids.shape[-1]:][0], skip_special_tokens=True)))\n",
    "        \n",
    "btn_launch.on_click(load_model)"
   ]
  },
  {
   "cell_type": "code",
   "execution_count": 4,
   "id": "51e8a2f6-9c1d-48f7-8be8-b6f843ec5e53",
   "metadata": {},
   "outputs": [],
   "source": [
    "class FakeModel:\n",
    "    def __call__(self, x):\n",
    "        return x[::-1]"
   ]
  },
  {
   "cell_type": "code",
   "execution_count": 5,
   "id": "4069def3-6b7e-4ba6-ae2e-1084ce2d57c1",
   "metadata": {},
   "outputs": [],
   "source": [
    "model = FakeModel()"
   ]
  },
  {
   "cell_type": "code",
   "execution_count": 6,
   "id": "78d787a5-6f48-46c4-86d1-f1dca59e19dc",
   "metadata": {},
   "outputs": [],
   "source": [
    "btn_test = widgets.Button(description=\"Test\")"
   ]
  },
  {
   "cell_type": "code",
   "execution_count": 7,
   "id": "67371c33-631a-43c3-8976-595c063d50b1",
   "metadata": {},
   "outputs": [],
   "source": [
    "output_text = widgets.Textarea(placeholder=\"Start dialog\", disabled=True, layout={'height': '100%', 'width':'99%'})\n",
    "user_input = widgets.Text(description=\"Input:\", layout={'width':'99%'})"
   ]
  },
  {
   "cell_type": "code",
   "execution_count": 8,
   "id": "f8eff978-6a7e-4d1d-a516-4250f62cb117",
   "metadata": {},
   "outputs": [],
   "source": [
    "# output_text = widgets.HTML(\n",
    "#     value=\"\",\n",
    "#     placeholder=\"Start the dialog by typing something below\"\n",
    "# )"
   ]
  },
  {
   "cell_type": "code",
   "execution_count": 9,
   "id": "3b3d83e1-2946-4282-bf0d-76398c3952c2",
   "metadata": {},
   "outputs": [],
   "source": [
    "def write_to_output(sender):\n",
    "    output_text.value += f\"User: {user_input.value}\\n\"\n",
    "    output_text.value += f\"Bot:  {model(user_input.value)}\\n\"\n",
    "    user_input.value=\"\"\n",
    "    \n",
    "user_input.on_submit(write_to_output)"
   ]
  },
  {
   "cell_type": "code",
   "execution_count": 10,
   "id": "e468e919-ef7f-4fba-aa9e-e99cbc90eaf1",
   "metadata": {},
   "outputs": [
    {
     "data": {
      "application/vnd.jupyter.widget-view+json": {
       "model_id": "9095d83a7ca24d5f91690d6d79eafc12",
       "version_major": 2,
       "version_minor": 0
      },
      "text/plain": [
       "VBox(children=(Textarea(value='', disabled=True, layout=Layout(height='100%', width='99%'), placeholder='Start…"
      ]
     },
     "metadata": {},
     "output_type": "display_data"
    }
   ],
   "source": [
    "display(widgets.VBox([output_text, user_input], layout={'height': '500px', 'width':'500px'}))"
   ]
  },
  {
   "cell_type": "code",
   "execution_count": null,
   "id": "a4d8734a-6cb8-45d5-b74d-afb39ec2b031",
   "metadata": {},
   "outputs": [],
   "source": [
    "# for step in range(5):\n",
    "#     # encode the new user input, add the eos_token and return a tensor in Pytorch\n",
    "#     new_user_input_ids = tokenizer.encode(input(\">> User:\") + tokenizer.eos_token, return_tensors='pt')\n",
    "\n",
    "#     # append the new user input tokens to the chat history\n",
    "#     bot_input_ids = torch.cat([chat_history_ids, new_user_input_ids], dim=-1) if step > 0 else new_user_input_ids\n",
    "\n",
    "#     # generated a response while limiting the total chat history to 1000 tokens, \n",
    "#     chat_history_ids = model.generate(bot_input_ids, \n",
    "#                                       max_length=1000, \n",
    "#                                       pad_token_id=tokenizer.eos_token_id,\n",
    "#                                       do_sample=True,\n",
    "#                                       top_p=0.9)\n",
    "\n",
    "#     # pretty print last ouput tokens from bot\n",
    "#     print(\"SimpsonsBot: {}\".format(tokenizer.decode(chat_history_ids[:, bot_input_ids.shape[-1]:][0], skip_special_tokens=True)))\n"
   ]
  }
 ],
 "metadata": {
  "kernelspec": {
   "display_name": "Python 3.8.8 64-bit ('torchenv': conda)",
   "language": "python",
   "name": "python388jvsc74a57bd04af15c6377fd3f0f03723b0d6472f0c10dcd7b2afd49a75a2b51cefc0e0a1d19"
  },
  "language_info": {
   "codemirror_mode": {
    "name": "ipython",
    "version": 3
   },
   "file_extension": ".py",
   "mimetype": "text/x-python",
   "name": "python",
   "nbconvert_exporter": "python",
   "pygments_lexer": "ipython3",
   "version": "3.8.10"
  }
 },
 "nbformat": 4,
 "nbformat_minor": 5
}
