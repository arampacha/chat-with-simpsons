{
 "cells": [
  {
   "cell_type": "code",
   "execution_count": 1,
   "id": "964734a1-4ef1-4ebb-a300-79b508a646c3",
   "metadata": {},
   "outputs": [],
   "source": [
    "import torch\n",
    "from transformers import AutoModelForCausalLM, AutoTokenizer"
   ]
  },
  {
   "cell_type": "markdown",
   "id": "28a5cc4a-9742-4635-aef4-2f73eeaad123",
   "metadata": {},
   "source": [
    "<figure>\n",
    "  <img src=\"https://github.com/arampacha/chat-with-simpsons/the-simpsons.png\" alt=\"the-simpsons.png\"/>\n",
    "  <figcaption>(c) 20th Century Fox Television</figcaption>\n",
    "</figure>"
   ]
  },
  {
   "cell_type": "markdown",
   "id": "a4c46c78-fe90-454a-a6d5-6a5d66306315",
   "metadata": {},
   "source": [
    "# Chat with Simpsons"
   ]
  },
  {
   "cell_type": "code",
   "execution_count": null,
   "id": "9a8bfeff-7962-43fb-9c17-025d393a4173",
   "metadata": {},
   "outputs": [],
   "source": [
    "model = AutoModelForCausalLM.from_pretrained(\"arampacha/DialoGPT-medium-simpsons\")\n",
    "tokenizer = AutoTokenizer.from_pretrained(\"arampacha/DialoGPT-medium-simpsons\")"
   ]
  },
  {
   "cell_type": "code",
   "execution_count": null,
   "id": "a4d8734a-6cb8-45d5-b74d-afb39ec2b031",
   "metadata": {},
   "outputs": [],
   "source": [
    "for step in range(5):\n",
    "    # encode the new user input, add the eos_token and return a tensor in Pytorch\n",
    "    new_user_input_ids = tokenizer.encode(input(\">> User:\") + tokenizer.eos_token, return_tensors='pt')\n",
    "\n",
    "    # append the new user input tokens to the chat history\n",
    "    bot_input_ids = torch.cat([chat_history_ids, new_user_input_ids], dim=-1) if step > 0 else new_user_input_ids\n",
    "\n",
    "    # generated a response while limiting the total chat history to 1000 tokens, \n",
    "    chat_history_ids = model.generate(bot_input_ids, \n",
    "                                      max_length=1000, \n",
    "                                      pad_token_id=tokenizer.eos_token_id,\n",
    "                                      do_sample=True,\n",
    "                                      top_p=0.9)\n",
    "\n",
    "    # pretty print last ouput tokens from bot\n",
    "    print(\"SimpsonsBot: {}\".format(tokenizer.decode(chat_history_ids[:, bot_input_ids.shape[-1]:][0], skip_special_tokens=True)))\n"
   ]
  }
 ],
 "metadata": {
  "kernelspec": {
   "display_name": "Python [conda env:torchenv]",
   "language": "python",
   "name": "conda-env-torchenv-py"
  },
  "language_info": {
   "codemirror_mode": {
    "name": "ipython",
    "version": 3
   },
   "file_extension": ".py",
   "mimetype": "text/x-python",
   "name": "python",
   "nbconvert_exporter": "python",
   "pygments_lexer": "ipython3",
   "version": "3.8.10"
  }
 },
 "nbformat": 4,
 "nbformat_minor": 5
}
