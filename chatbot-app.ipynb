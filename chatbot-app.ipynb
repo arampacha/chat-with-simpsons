{
 "cells": [
  {
   "cell_type": "code",
   "execution_count": 1,
   "id": "964734a1-4ef1-4ebb-a300-79b508a646c3",
   "metadata": {},
   "outputs": [],
   "source": [
    "import torch\n",
    "from transformers import AutoModelForCausalLM, AutoTokenizer\n",
    "import ipywidgets as widgets\n",
    "from IPython.display import display"
   ]
  },
  {
   "cell_type": "markdown",
   "id": "28a5cc4a-9742-4635-aef4-2f73eeaad123",
   "metadata": {},
   "source": [
    "<figure>\n",
    "  <img src=\"the-simpsons.png\" alt=\"the-simpsons.png\"/>\n",
    "  <figcaption>(c) 20th Century Fox Television</figcaption>\n",
    "</figure>"
   ]
  },
  {
   "cell_type": "markdown",
   "id": "a4c46c78-fe90-454a-a6d5-6a5d66306315",
   "metadata": {},
   "source": [
    "# Chat with Simpsons\n",
    "\n",
    "Start your conversation with Simpsons chatbot!"
   ]
  },
  {
   "cell_type": "code",
   "execution_count": null,
   "id": "198f4bb1-339a-45fb-8d6d-f0a887c4c2d6",
   "metadata": {},
   "outputs": [],
   "source": [
    "model = AutoModelForCausalLM.from_pretrained(\"arampacha/DialoGPT-medium-simpsons\")\n",
    "tokenizer = AutoTokenizer.from_pretrained(\"arampacha/DialoGPT-medium-simpsons\")"
   ]
  },
  {
   "cell_type": "code",
   "execution_count": 25,
   "id": "67371c33-631a-43c3-8976-595c063d50b1",
   "metadata": {},
   "outputs": [],
   "source": [
    "reset_btn = widgets.Button(description=\"Reset\")\n",
    "output_text = widgets.Textarea(placeholder=\"Start dialog\", disabled=True, layout={'height': '100%', 'width':'99%'})\n",
    "input_text = widgets.Text(description=\"Input:\", layout={'width':'99%'})"
   ]
  },
  {
   "cell_type": "code",
   "execution_count": 28,
   "id": "c09eab92-61f6-4003-8128-015138f0cc19",
   "metadata": {},
   "outputs": [],
   "source": [
    "def _reset(click):\n",
    "    output_text.value = \"\"\n",
    "    input_text.value = \"\"\n",
    "    cache.clear()\n",
    "    \n",
    "reset_btn.on_click(_reset)"
   ]
  },
  {
   "cell_type": "code",
   "execution_count": 29,
   "id": "3b3d83e1-2946-4282-bf0d-76398c3952c2",
   "metadata": {},
   "outputs": [],
   "source": [
    "cache = {}\n",
    "def write_to_output(sender):\n",
    "    user_input = input_text.value\n",
    "    input_text.value=\"\"\n",
    "    user_input_ids = tokenizer.encode(user_input + tokenizer.eos_token, return_tensors='pt')\n",
    "    step = cache.get(\"step\", 0)\n",
    "    chat_history_ids = cache.get(\"chat_history_ids\", torch.empty(1, 0))\n",
    "    bot_input_ids = torch.cat([chat_history_ids, user_input_ids], dim=-1) if step > 0 else user_input_ids\n",
    "    output_text.value += f\">> User:     {user_input}\\n\"\n",
    "    \n",
    "    chat_history_ids = model.generate(bot_input_ids, \n",
    "                                      max_length=1000, \n",
    "                                      pad_token_id=tokenizer.eos_token_id,\n",
    "                                      do_sample=True,\n",
    "                                      top_p=0.9)\n",
    "    bot_output = tokenizer.decode(chat_history_ids[:, bot_input_ids.shape[-1]:][0], skip_special_tokens=True)\n",
    "    output_text.value += f\"SimpsonsBot: {bot_output}\\n\"\n",
    "    \n",
    "    cache[\"step\"] = step + 1\n",
    "    cache[\"chat_history_ids\"] = chat_history_ids\n",
    "\n",
    "    \n",
    "input_text.on_submit(write_to_output)"
   ]
  },
  {
   "cell_type": "code",
   "execution_count": 31,
   "id": "e468e919-ef7f-4fba-aa9e-e99cbc90eaf1",
   "metadata": {},
   "outputs": [
    {
     "data": {
      "application/vnd.jupyter.widget-view+json": {
       "model_id": "7deeb51abcad4beaa63e70d126be53d9",
       "version_major": 2,
       "version_minor": 0
      },
      "text/plain": [
       "VBox(children=(Textarea(value='', disabled=True, layout=Layout(height='100%', width='99%'), placeholder='Start…"
      ]
     },
     "metadata": {},
     "output_type": "display_data"
    }
   ],
   "source": [
    "display(widgets.VBox([output_text, input_text], layout={'height': '300px', 'width':'500px'}))"
   ]
  },
  {
   "cell_type": "code",
   "execution_count": 32,
   "id": "6107b6b6-6082-4ab4-b406-c7eff419a651",
   "metadata": {},
   "outputs": [
    {
     "data": {
      "application/vnd.jupyter.widget-view+json": {
       "model_id": "aed14a2a7a784cae973716a9b14a2613",
       "version_major": 2,
       "version_minor": 0
      },
      "text/plain": [
       "Button(description='Reset', style=ButtonStyle())"
      ]
     },
     "metadata": {},
     "output_type": "display_data"
    }
   ],
   "source": [
    "display(reset_btn)"
   ]
  }
 ],
 "metadata": {
  "kernelspec": {
   "display_name": "Python 3.8.8 64-bit ('torchenv': conda)",
   "language": "python",
   "name": "python388jvsc74a57bd04af15c6377fd3f0f03723b0d6472f0c10dcd7b2afd49a75a2b51cefc0e0a1d19"
  },
  "language_info": {
   "codemirror_mode": {
    "name": "ipython",
    "version": 3
   },
   "file_extension": ".py",
   "mimetype": "text/x-python",
   "name": "python",
   "nbconvert_exporter": "python",
   "pygments_lexer": "ipython3",
   "version": "3.8.10"
  }
 },
 "nbformat": 4,
 "nbformat_minor": 5
}
